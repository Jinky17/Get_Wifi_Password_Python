{
 "cells": [
  {
   "cell_type": "code",
   "execution_count": 1,
   "source": [
    "# importing subprocess\r\n",
    "import subprocess"
   ],
   "outputs": [],
   "metadata": {}
  },
  {
   "cell_type": "code",
   "execution_count": null,
   "source": [
    "# getting meta data\r\n",
    "meta_data = subprocess.check_output(['netsh', 'wlan', 'show', 'profiles'])"
   ],
   "outputs": [],
   "metadata": {}
  },
  {
   "cell_type": "code",
   "execution_count": null,
   "source": [
    "# decoding meta data\r\n",
    "data = meta_data.decode('utf-8', errors =\"backslashreplace\")"
   ],
   "outputs": [],
   "metadata": {}
  },
  {
   "cell_type": "code",
   "execution_count": null,
   "source": [
    "# splitting data by line by line\r\n",
    "data = data.split('\\n')\r\n",
    " \r\n",
    "# creating a list of profiles\r\n",
    "profiles = []"
   ],
   "outputs": [],
   "metadata": {}
  },
  {
   "cell_type": "code",
   "execution_count": null,
   "source": [
    "# traverse the data\r\n",
    "for i in data:\r\n",
    "     \r\n",
    "    # find \"All User Profile\" in each item\r\n",
    "    if \"All User Profile\" in i :\r\n",
    "         \r\n",
    "        # if found\r\n",
    "        # split the item\r\n",
    "        i = i.split(\":\")\r\n",
    "         \r\n",
    "        # item at index 1 will be the wifi name\r\n",
    "        i = i[1]\r\n",
    "         \r\n",
    "        # formatting the name\r\n",
    "        # first and last character is use less\r\n",
    "        i = i[1:-1]\r\n",
    "         \r\n",
    "        # appending the wifi name in the list\r\n",
    "        profiles.append(i)\r\n",
    "         \r\n",
    " \r\n",
    "# printing heading       \r\n",
    "print(\"{:<30}| {:<}\".format(\"Wi-Fi Name\", \"Password\"))\r\n",
    "print(\"----------------------------------------------\")"
   ],
   "outputs": [],
   "metadata": {}
  },
  {
   "cell_type": "code",
   "execution_count": null,
   "source": [
    "# traversing the profiles       \r\n",
    "for i in profiles:\r\n",
    "     \r\n",
    "    # try catch block begins\r\n",
    "    # try block\r\n",
    "    try:\r\n",
    "        # getting meta data with password using wifi name\r\n",
    "        results = subprocess.check_output(['netsh', 'wlan', 'show', 'profile', i, 'key = clear'])\r\n",
    "         \r\n",
    "        # decoding and splitting data line by line\r\n",
    "        results = results.decode('utf-8', errors =\"backslashreplace\")\r\n",
    "        results = results.split('\\n')\r\n",
    "         \r\n",
    "        # finding password from the result list\r\n",
    "        results = [b.split(\":\")[1][1:-1] for b in results if \"Key Content\" in b]\r\n",
    "         \r\n",
    "        # if there is password it will print the pass word\r\n",
    "        try:\r\n",
    "            print(\"{:<30}| {:<}\".format(i, results[0]))\r\n",
    "         \r\n",
    "        # else it will print blank in fornt of pass word\r\n",
    "        except IndexError:\r\n",
    "            print(\"{:<30}| {:<}\".format(i, \"\"))\r\n",
    "             \r\n",
    "     \r\n",
    "             \r\n",
    "    # called when this process get failed\r\n",
    "    except subprocess.CalledProcessError:\r\n",
    "        print(\"Encoding Error Occured\")\r\n",
    "Get Wifi pswrd with python source code"
   ],
   "outputs": [],
   "metadata": {}
  }
 ],
 "metadata": {
  "orig_nbformat": 4,
  "language_info": {
   "name": "python",
   "version": "3.7.3",
   "mimetype": "text/x-python",
   "codemirror_mode": {
    "name": "ipython",
    "version": 3
   },
   "pygments_lexer": "ipython3",
   "nbconvert_exporter": "python",
   "file_extension": ".py"
  },
  "kernelspec": {
   "name": "python3",
   "display_name": "Python 3.7.3 64-bit ('base': conda)"
  },
  "interpreter": {
   "hash": "5a4785291d7eaea15947ff8eb145dded3b3637f781b94acf2bf98705482c9744"
  }
 },
 "nbformat": 4,
 "nbformat_minor": 2
}